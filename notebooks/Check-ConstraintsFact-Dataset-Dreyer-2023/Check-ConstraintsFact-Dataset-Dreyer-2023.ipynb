{
 "cells": [
  {
   "cell_type": "markdown",
   "id": "96b1442b",
   "metadata": {},
   "source": [
    "# Reproducing codebase as Python API\n",
    "\n",
    "The notebook reproduces the trained-BART model as the Python API not as the CLI. "
   ]
  },
  {
   "cell_type": "code",
   "execution_count": null,
   "id": "70f4c4a8",
   "metadata": {},
   "outputs": [],
   "source": [
    "import os\n",
    "import sys\n",
    "import argparse\n",
    "import logging\n",
    "import re\n",
    "import typing as ty\n",
    "\n",
    "from tqdm import tqdm\n",
    "from warnings import warn\n",
    "from torch.multiprocessing import Pool, set_start_method\n",
    "set_start_method('spawn', force=True)\n",
    "from functools import partial\n",
    "import more_itertools as mit\n",
    "\n",
    "import torch\n",
    "import fairseq\n",
    "from fairseq.models.bart import BARTHubInterface\n",
    "from fairseq.models.bart import BARTModel\n",
    "\n",
    "import nvgpu\n",
    "\n",
    "from pathlib import Path"
   ]
  },
  {
   "cell_type": "code",
   "execution_count": null,
   "id": "aeb361a5",
   "metadata": {},
   "outputs": [],
   "source": [
    "import logzero\n",
    "\n",
    "from datetime import datetime\n",
    "_datetime_exec = datetime.now()\n",
    "\n",
    "logzero.logfile(f\"logs/{_datetime_exec.isoformat()}.log\")\n",
    "\n",
    "logger = logzero.logger"
   ]
  },
  {
   "cell_type": "code",
   "execution_count": null,
   "id": "977ed794",
   "metadata": {},
   "outputs": [],
   "source": [
    "def load_model(task: Path, model_path: Path) -> BARTHubInterface:\n",
    "    \"\"\"\n",
    "    Args:\n",
    "        task: a path to the directory of the model.\n",
    "        model_path: a path to 'model.pt' file.\n",
    "    \"\"\"\n",
    "    assert task.exists()\n",
    "    assert model_path.exists()\n",
    "\n",
    "    logger.info(f\"Loading model {model_path}\")\n",
    "    model_dirname, model_fname = os.path.split(model_path.as_posix())\n",
    "    bart = BARTModel.from_pretrained(\n",
    "        model_dirname,\n",
    "        checkpoint_file=model_fname,\n",
    "        data_name_or_path=task.as_posix()\n",
    "    )\n",
    "    logger.info(f\"Loading done.\")\n",
    "    return bart\n"
   ]
  },
  {
   "cell_type": "code",
   "execution_count": null,
   "id": "f758873e",
   "metadata": {},
   "outputs": [],
   "source": [
    "# path to input\n",
    "PATH_TEXT_FILE_INPUT = Path(\"/workdir/kmitsuzawa/Project/neurips-2025/ConstraintsFact-Dreyer-2023/abstractive-factual-tradeoff/tests/testresources/xsum/test_source.txt\")\n",
    "assert PATH_TEXT_FILE_INPUT.exists()\n",
    "\n",
    "seq_text_input = PATH_TEXT_FILE_INPUT.open().readlines()\n",
    "assert len(seq_text_input) > 0"
   ]
  },
  {
   "cell_type": "code",
   "execution_count": null,
   "id": "6aa15ae9",
   "metadata": {},
   "outputs": [],
   "source": [
    "# with xsum model\n",
    "# PATH_MODEL_FILE = Path('/workdir/kmitsuzawa/Project/neurips-2025/ConstraintsFact-Dreyer-2023/abstractive-factual-tradeoff/tests/testresources/models/bart.large.xsum')\n",
    "PATH_MODEL_FILE = Path('/workdir/kmitsuzawa/Project/neurips-2025/ConstraintsFact-Dreyer-2023/abstractive-factual-tradeoff/tests/testresources/models/bart.large.cnn')\n",
    "\n",
    "bart_model = load_model(PATH_MODEL_FILE, PATH_MODEL_FILE / 'model.pt')"
   ]
  },
  {
   "cell_type": "code",
   "execution_count": null,
   "id": "c2046a14",
   "metadata": {},
   "outputs": [],
   "source": [
    "type(bart_model)"
   ]
  },
  {
   "cell_type": "code",
   "execution_count": null,
   "id": "7807ca8b",
   "metadata": {},
   "outputs": [],
   "source": [
    "logger.info(str(bart_model))"
   ]
  },
  {
   "cell_type": "code",
   "execution_count": null,
   "id": "5a3f5f0e",
   "metadata": {},
   "outputs": [],
   "source": [
    "if torch.cuda.is_available():\n",
    "    device_obj = torch.device('cuda:0')\n",
    "else:\n",
    "    device_obj = torch.device('cpu')\n",
    "# end if\n",
    "\n",
    "bart_model = bart_model.to(device_obj)"
   ]
  },
  {
   "cell_type": "code",
   "execution_count": null,
   "id": "24dcc697",
   "metadata": {},
   "outputs": [],
   "source": [
    "def bart_sample(bart: BARTHubInterface,\n",
    "                batch: ty.List[str],\n",
    "                extractive_penalty_fct: str,\n",
    "                beam: int = 4,\n",
    "                lenpen: float = 2.0,  # length penalty\n",
    "                min_len: int = 55,\n",
    "                max_len_a: int = 0,\n",
    "                max_len_b: int = 140,\n",
    "                no_repeat_ngram_size: int = 3):\n",
    "    with torch.no_grad():\n",
    "        return bart.sample(batch, beam=beam, lenpen=lenpen,\n",
    "                            min_len=min_len, max_len_a=max_len_a, max_len_b=max_len_b,\n",
    "                            no_repeat_ngram_size=no_repeat_ngram_size,\n",
    "                            extractive_penalty_fct=extractive_penalty_fct)\n",
    "# end def\n",
    "\n",
    "\n",
    "res = bart_sample(\n",
    "    bart=bart_model,\n",
    "    batch=seq_text_input,\n",
    "    extractive_penalty_fct='log_exp(2,2.402244)'\n",
    ")"
   ]
  },
  {
   "cell_type": "code",
   "execution_count": null,
   "id": "42d62aae",
   "metadata": {},
   "outputs": [],
   "source": [
    "seq_text_input"
   ]
  },
  {
   "cell_type": "code",
   "execution_count": null,
   "id": "0ab10c14",
   "metadata": {},
   "outputs": [],
   "source": [
    "res"
   ]
  }
 ],
 "metadata": {
  "kernelspec": {
   "display_name": "p39-Dreyer-2023",
   "language": "python",
   "name": "python3"
  },
  "language_info": {
   "codemirror_mode": {
    "name": "ipython",
    "version": 3
   },
   "file_extension": ".py",
   "mimetype": "text/x-python",
   "name": "python",
   "nbconvert_exporter": "python",
   "pygments_lexer": "ipython3",
   "version": "3.9.23"
  }
 },
 "nbformat": 4,
 "nbformat_minor": 5
}
