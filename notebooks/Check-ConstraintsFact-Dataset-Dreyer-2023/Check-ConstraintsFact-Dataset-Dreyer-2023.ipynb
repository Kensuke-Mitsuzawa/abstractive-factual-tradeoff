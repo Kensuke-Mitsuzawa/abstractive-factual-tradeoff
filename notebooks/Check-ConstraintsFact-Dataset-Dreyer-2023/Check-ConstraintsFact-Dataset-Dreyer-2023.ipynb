{
 "cells": [
  {
   "cell_type": "markdown",
   "id": "96b1442b",
   "metadata": {},
   "source": [
    "# Reproducing codebase as Python API\n",
    "\n",
    "The notebook reproduces the trained-BART model as the Python API not as the CLI. "
   ]
  },
  {
   "cell_type": "code",
   "execution_count": null,
   "id": "70f4c4a8",
   "metadata": {},
   "outputs": [],
   "source": [
    "import os\n",
    "import sys\n",
    "import argparse\n",
    "import logging\n",
    "import re\n",
    "import typing as ty\n",
    "\n",
    "from tqdm import tqdm\n",
    "from warnings import warn\n",
    "from torch.multiprocessing import Pool, set_start_method\n",
    "set_start_method('spawn', force=True)\n",
    "from functools import partial\n",
    "import more_itertools as mit\n",
    "\n",
    "import torch\n",
    "import fairseq\n",
    "from fairseq.models.bart import BARTHubInterface\n",
    "from fairseq.models.bart import BARTModel\n",
    "\n",
    "import nvgpu\n",
    "\n",
    "from pathlib import Path"
   ]
  },
  {
   "cell_type": "code",
   "execution_count": null,
   "id": "aeb361a5",
   "metadata": {},
   "outputs": [],
   "source": [
    "import logzero\n",
    "\n",
    "from datetime import datetime\n",
    "_datetime_exec = datetime.now()\n",
    "\n",
    "logzero.logfile(f\"logs/{_datetime_exec.isoformat()}.log\")\n",
    "\n",
    "logger = logzero.logger"
   ]
  },
  {
   "cell_type": "code",
   "execution_count": null,
   "id": "977ed794",
   "metadata": {},
   "outputs": [],
   "source": [
    "def load_model(task: Path, model_path: Path) -> BARTHubInterface:\n",
    "    \"\"\"\n",
    "    Args:\n",
    "        task: a path to the directory of the model.\n",
    "        model_path: a path to 'model.pt' file.\n",
    "    \"\"\"\n",
    "    assert task.exists()\n",
    "    assert model_path.exists()\n",
    "\n",
    "    logger.info(f\"Loading model {model_path}\")\n",
    "    model_dirname, model_fname = os.path.split(model_path.as_posix())\n",
    "    bart = BARTModel.from_pretrained(\n",
    "        model_dirname,\n",
    "        checkpoint_file=model_fname,\n",
    "        data_name_or_path=task.as_posix()\n",
    "    )\n",
    "    logger.info(f\"Loading done.\")\n",
    "    return bart\n"
   ]
  },
  {
   "cell_type": "code",
   "execution_count": null,
   "id": "f758873e",
   "metadata": {},
   "outputs": [],
   "source": [
    "# path to input\n",
    "PATH_TEXT_FILE_INPUT = Path(\"/workdir/kmitsuzawa/Project/neurips-2025/ConstraintsFact-Dreyer-2023/abstractive-factual-tradeoff/tests/testresources/xsum/test_source.txt\")\n",
    "assert PATH_TEXT_FILE_INPUT.exists()\n",
    "\n",
    "seq_text_input = PATH_TEXT_FILE_INPUT.open().readlines()\n",
    "assert len(seq_text_input) > 0"
   ]
  },
  {
   "cell_type": "code",
   "execution_count": null,
   "id": "6aa15ae9",
   "metadata": {},
   "outputs": [],
   "source": [
    "# with xsum model\n",
    "PATH_MODEL_FILE = Path('/workdir/kmitsuzawa/Project/neurips-2025/ConstraintsFact-Dreyer-2023/abstractive-factual-tradeoff/tests/testresources/models/bart.large.xsum')\n",
    "# with cnn model\n",
    "# PATH_MODEL_FILE = Path('/workdir/kmitsuzawa/Project/neurips-2025/ConstraintsFact-Dreyer-2023/abstractive-factual-tradeoff/tests/testresources/models/bart.large.cnn')\n",
    "\n",
    "bart_model = load_model(PATH_MODEL_FILE, PATH_MODEL_FILE / 'model.pt')"
   ]
  },
  {
   "cell_type": "code",
   "execution_count": null,
   "id": "c2046a14",
   "metadata": {},
   "outputs": [],
   "source": [
    "type(bart_model)"
   ]
  },
  {
   "cell_type": "code",
   "execution_count": null,
   "id": "7807ca8b",
   "metadata": {},
   "outputs": [],
   "source": [
    "logger.info(str(bart_model))"
   ]
  },
  {
   "cell_type": "code",
   "execution_count": null,
   "id": "5a3f5f0e",
   "metadata": {},
   "outputs": [],
   "source": [
    "if torch.cuda.is_available():\n",
    "    device_obj = torch.device('cuda:0')\n",
    "else:\n",
    "    device_obj = torch.device('cpu')\n",
    "# end if\n",
    "\n",
    "bart_model = bart_model.to(device_obj)"
   ]
  },
  {
   "cell_type": "code",
   "execution_count": null,
   "id": "24dcc697",
   "metadata": {},
   "outputs": [],
   "source": [
    "# def bart_sample(bart: BARTHubInterface,\n",
    "#                 batch: ty.List[str],\n",
    "#                 extractive_penalty_fct: str,\n",
    "#                 beam: int = 4,\n",
    "#                 lenpen: float = 2.0,  # length penalty\n",
    "#                 min_len: int = 55,\n",
    "#                 max_len_a: int = 0,\n",
    "#                 max_len_b: int = 140,\n",
    "#                 no_repeat_ngram_size: int = 3):\n",
    "#     with torch.no_grad():\n",
    "#         return bart.sample(batch, beam=beam, lenpen=lenpen,\n",
    "#                             min_len=min_len, max_len_a=max_len_a, max_len_b=max_len_b,\n",
    "#                             no_repeat_ngram_size=no_repeat_ngram_size,\n",
    "#                             extractive_penalty_fct=extractive_penalty_fct)\n",
    "# # end def\n",
    "\n",
    "\n",
    "# res = bart_sample(\n",
    "#     bart=bart_model,\n",
    "#     batch=seq_text_input,\n",
    "#     extractive_penalty_fct='log_exp(2,2.402244)'\n",
    "# )"
   ]
  },
  {
   "cell_type": "markdown",
   "id": "062c00b5",
   "metadata": {},
   "source": [
    "---"
   ]
  },
  {
   "cell_type": "code",
   "execution_count": null,
   "id": "b8ae2fbe",
   "metadata": {},
   "outputs": [],
   "source": [
    "# case Xsum constraints dataset\n",
    "import json\n",
    "\n",
    "PATH_CONSTRAINS_XSUM = Path(\"/workdir/kmitsuzawa/Project/neurips-2025/ConstraintsFact-Dreyer-2023/abstractive-factual-tradeoff/tests/testresources/datasets/constraints_fact_v1.0/xsum/collect.json\")\n",
    "assert PATH_CONSTRAINS_XSUM.exists()\n",
    "\n",
    "with PATH_CONSTRAINS_XSUM.open() as f:\n",
    "    seq_dataset = [json.loads(_line) for _line in f.readlines()]\n",
    "# end with\n",
    "\n",
    "logger.info(f'{len(seq_dataset)} records')\n",
    "\n",
    "# double check: all xsum\n",
    "for _record in seq_dataset:\n",
    "    assert _record['dataset_name'] == 'xsum'\n",
    "# end for"
   ]
  },
  {
   "cell_type": "code",
   "execution_count": null,
   "id": "3a165540",
   "metadata": {},
   "outputs": [],
   "source": [
    "# # case CNN constraints dataset\n",
    "# import json\n",
    "\n",
    "# PATH_CONSTRAINS_CNN = Path(\"/workdir/kmitsuzawa/Project/neurips-2025/ConstraintsFact-Dreyer-2023/abstractive-factual-tradeoff/tests/testresources/datasets/constraints_fact_v1.0/cnn_dailymail/collect.json\")\n",
    "# assert PATH_CONSTRAINS_CNN.exists()\n",
    "\n",
    "# with PATH_CONSTRAINS_CNN.open() as f:\n",
    "#     seq_dataset = [json.loads(_line) for _line in f.readlines()]\n",
    "# # end with\n",
    "\n",
    "# logger.info(f'{len(seq_dataset)} records')\n",
    "\n",
    "# # double check: all xsum\n",
    "# for _record in seq_dataset:\n",
    "#     assert _record['dataset_name'] == 'cnn_dailymail'\n",
    "# # end for"
   ]
  },
  {
   "cell_type": "code",
   "execution_count": null,
   "id": "c0398b86",
   "metadata": {},
   "outputs": [],
   "source": [
    "def get_source_and_summary(record_obj: ty.Dict) -> ty.Tuple[str, str]:\n",
    "    # return record_obj['document_original'], record_obj['summary_raw']\n",
    "    return record_obj['document_full'], record_obj['summary_raw']\n",
    "# end def\n",
    "\n",
    "target_document_index = [1, 10, 100, 200]\n",
    "\n",
    "import pprint\n",
    "\n",
    "seq_stack = []\n",
    "\n",
    "dict_commnad2ep = dict(\n",
    "    lambda4 = 'log_exp(2,4.804488)',  # lambda4\n",
    "    lambda2 = 'log_exp(2,2.402244)',  # lambda2\n",
    "    lambda1 = 'log_exp(2,1.201122)',  # lambda1\n",
    "    none = 'none()',\n",
    "    linear = 'linear()',\n",
    ")\n",
    "dict_commnad2ep['1/lambda2'] = 'log_exp(2,0.416277447)'  # 1/lambda2, log_exp(2, 1 / (1.20112 * 2))\n",
    "dict_commnad2ep['1/lambda1'] = 'log_exp(2,0.832556281)'  # 1/lambda1, log_exp(2, 1 / 1.20112)\n",
    "\n",
    "\n",
    "for _idx in target_document_index:\n",
    "    _record = seq_dataset[_idx]\n",
    "\n",
    "    _document_id: str = _record['document_id']\n",
    "    command_abstractiveness_constraint: str = _record['abstractiveness_constraint']\n",
    "\n",
    "    _document_original, _summary_raw = get_source_and_summary(_record)\n",
    "    extractive_penalty_fct = dict_commnad2ep[command_abstractiveness_constraint]\n",
    "\n",
    "    seq_summary = bart_sample(\n",
    "        bart=bart_model,\n",
    "        batch=[_document_original],\n",
    "        extractive_penalty_fct=extractive_penalty_fct\n",
    "    )\n",
    "\n",
    "    _res_obj = dict(\n",
    "        document_id=_document_id,\n",
    "        document_original=_document_original,\n",
    "        summary_raw=_summary_raw,\n",
    "        summary_gen=seq_summary[0],\n",
    "        extractive_penalty_fct=extractive_penalty_fct,\n",
    "        command_abstractiveness_constraint=command_abstractiveness_constraint\n",
    "    )\n",
    "    seq_stack.append(_res_obj)\n",
    "# end for"
   ]
  },
  {
   "cell_type": "code",
   "execution_count": null,
   "id": "ed0c2be4",
   "metadata": {},
   "outputs": [],
   "source": [
    "seq_stack"
   ]
  },
  {
   "cell_type": "code",
   "execution_count": null,
   "id": "1d0f6e66",
   "metadata": {},
   "outputs": [],
   "source": [
    "# seq_text_input = [\n",
    "#     # \"Russian's intervention in Syria is \\\"hugely significant\\\" says the UK's former senior military adviser in the Middle East Lt Gen Sir Simon Mayall. 2 October 2015 Last updated at 18:13 BST Speaking in an interview with BBC Newsnight's diplomatic and defence editor Mark Urban, he said UK policy in Syria had been hampered by \\\"wishful thinking\\\" - and officials underestimated the staying power of President Bashar al-Assad. More on this story from Mark Urban on BBC Newsnight at 22:30 BST BBC Two on Friday 2 October, and afterwards on iPlayer\",\n",
    "#     # \"On the first day in his new job, Choe Peng Sum was given a fairly simple brief: \\\"Just go make us a lot of money.\\\" Fast forward about 20 years, and it's fair to say he has done just that. The business he runs, Frasers Hospitality, is one of the world's biggest providers of high-end serviced apartments. Its 148 properties span about 80 capital cities, as well as financial hubs across Europe, Asia, the Middle East and Africa. But it almost didn't get off the ground. When Mr Choe was appointed to launch and lead the company, Asia was booming; the tiger economies of Hong Kong, South Korea, Taiwan and Singapore were expanding rapidly. But as Frasers prepared to open its first two properties in Singapore, the Asian financial crisis hit. It was 1997. Currencies went into freefall. Suddenly, people were losing their jobs and stopped travelling. Mr Choe recalls asking staff if they really wanted to continue working with the firm, because when the properties opened they might not get paid. \\\"It was really that serious,\\\" he says. \\\"I remember tearing up because they said 'let's open it, let's open it whether you can pay us or not'.\\\" Survival, Mr Choe admits, came through a bit of luck, and the misfortune of others. He had convinced the board at parent firm, property group Frasers Centrepoint, to open serviced apartments rather than hotels - partly because getting planning permission in Singapore was easier. But he also sensed it was a big, untapped market. And at the time of the crisis, it proved to be exactly what customers wanted. \\\"As we were going through this difficult patch, there were protests and riots in Jakarta,\\\" he says. \\\"A lot of companies like Microsoft called up looking for rooms for their staff because they were moving out of Jakarta.\\\" Frasers' 412 apartments were quickly in demand. Occupancy soon hit 70%, and then 90%. Explaining the popularity of serviced apartments, Mr Choe says that if people are staying somewhere for just a few days, they happily stay in hotels, but if they are going to be somewhere for one month to eight months, the walls of hotel rooms \\\"close in on you\\\". But now, Mr Choe, 57, faces new challenges - the travel tastes of millennials and the disruptive nature of Airbnb. \\\"The way to tackle Airbnb is not to ignore it. I will never underestimate Airbnb,\\\" he says. There's been no significant impact on Frasers yet. Big corporations still prefer to put employees in big service apartments, he says, because they can guarantee a level of safety and security. But that is likely to change, Mr Choe admits. \\\"I have two daughters who to my chagrin use Airbnb,\\\" he says. \\\"We took a family trip to Florence and I stayed in this wonderful boutique hotel, but paid a bundle for it. \\\"When my daughter joined us, she said, 'I'm just staying next door and paying about 80 euros'. We paid about 330 euros. \\\"I asked why they stayed at Airbnb. They say 'it's like a surprise, it's part of the adventure'.\\\" And so now, Mr Choe wants to bring some of that vibrancy to Frasers. While neutral colours, beige curtains and dark wooden chairs dominate its more traditional apartments, many customers want something different, and this is shaping Fraser's strategy. In 2015 it bought Malmaison Hotel du Vin, a UK hotel group that specialises in developing heritage properties into upscale boutique hotels. That has taken them beyond financial centres, including to Shakespeare's hometown of Stratford-upon-Avon. Or, an intrepid traveller with $500 (Â£325) to spend could have a night in a converted medieval prison in Oxford. And Frasers has launched the Capri sub-brand - whose website promises \\\"inspiring art and inspirational tech\\\". On a day-to-day basis Mr Choe says he still draws on his experience as a young man, who - having been given a scholarship by the Shangri-La hotel group to study at Cornell University in the US - came back to Asia to learn about the hospitality industry. \\\"They put me in every department conceivable. I remember one of the toughest jobs I had was in the butchery. I had to carve an entire cow. For one month, I could not eat meat. \\\"I'm thankful for those experiences. When you step into a hotel, you immediately pick up what works and what doesn't work. \\\"When I see the check-in staff walking more than three steps, I know the counter is set up wrong. \\\"It's like a cockpit. Can you imagine if the pilot had to turn around when he flies?\\\" More The Boss features, which every week profile a different business leader from around the world: The 'diva of divorce' for the world's super rich The snacks boss with an appetite for success Taking his own path: The world's leading maze designer Mr Choe adds that loyalty is very important to him, and he remains tremendously grateful to staff who have stayed with him. \\\"I will always respect and remember those who gave up their jobs to join me,\\\" he says. This loyalty is something that Mr Choe has earned, according to Donald MacLaurin, associate professor at Singapore Institute of Technology, and specialist in the hospitality sector. Mr MacLaurin points out that Mr Choe introduced a five-day working week, in a part of the world where six days is common, thereby showing \\\"a focus on quality of life issues for employees\\\". The associate professor adds says the early success of the business was remarkable given the timing of its launch. Fast forward to today and the company is now on track to operate 30,000 serviced apartments globally by 2019. That success, say Mr Choe's admirers, should make him something of a visionary. Follow The Boss series editor Will Smale on Twitter.\"\n",
    "#     \"Fast forward about 20 years, and it's fair to say he has done just that. The business he runs, Frasers Hospitality, is one of the world's biggest providers of high-end serviced apartments. Its 148 properties span about 80 capital cities, as well as financial hubs across Europe, Asia, the Middle East and Africa. But it almost didn't get off the ground. When Mr Choe was appointed to launch and lead the company, Asia was booming; the tiger economies of Hong Kong, South Korea, Taiwan and Singapore were expanding rapidly. But as Frasers prepared to open its first two properties in Singapore, the Asian financial crisis hit. It was 1997. Currencies went into freefall. Suddenly, people were losing their jobs and stopped travelling. Mr Choe recalls asking staff if they really wanted to continue working with the firm, because when the properties opened they might not get paid. \\\"It was really that serious,\\\" he says. \\\"I remember tearing up because they said 'let's open it, let's open it whether you can pay us or not'.\\\" Survival, Mr Choe admits, came through a bit of luck, and the misfortune of others. He had convinced the board at parent firm, property group Frasers Centrepoint, to open serviced apartments rather than hotels - partly because getting planning permission in Singapore was easier. But he also sensed it was a big, untapped market. And at the time of the crisis, it proved to be exactly what customers wanted. \\\"As we were going through this difficult patch, there were protests and riots in Jakarta,\\\" he says. \\\"A lot of companies like Microsoft called up looking for rooms for their staff because they were moving out of Jakarta.\\\" Frasers' 412 apartments were quickly in demand. Occupancy soon hit 70%, and then 90%. Explaining the popularity of serviced apartments, Mr Choe says that if people are staying somewhere for just a few days, they happily stay in hotels, but if they are going to be somewhere for one month to eight months, the walls of hotel rooms \\\"close in on you\\\". But now, Mr Choe, 57, faces new challenges - the travel tastes of millennials and the disruptive nature of Airbnb. \\\"The way to tackle Airbnb is not to ignore it. I will never underestimate Airbnb,\\\" he says. There's been no significant impact on Frasers yet. Big corporations still prefer to put employees in big service apartments, he says, because they can guarantee a level of safety and security. But that is likely to change, Mr Choe admits. \\\"I have two daughters who to my chagrin use Airbnb,\\\" he says. \\\"We took a family trip to Florence and I stayed in this wonderful boutique hotel, but paid a bundle for it. \\\"When my daughter joined us, she said, 'I'm just staying next door and paying about 80 euros'. We paid about 330 euros. \\\"I asked why they stayed at Airbnb. They say 'it's like a surprise, it's part of the adventure'.\\\" And so now, Mr Choe wants to bring some of that vibrancy to Frasers. While neutral colours, beige curtains and dark wooden chairs dominate its more traditional apartments, many customers want something different, and this is shaping Fraser's strategy. In 2015 it bought Malmaison Hotel du Vin, a UK hotel group that specialises in developing heritage properties into upscale boutique hotels. That has taken them beyond financial centres, including to Shakespeare's hometown of Stratford-upon-Avon. Or, an intrepid traveller with $500 (Â£325) to spend could have a night in a converted medieval prison in Oxford. And Frasers has launched the Capri sub-brand - whose website promises \\\"inspiring art and inspirational tech\\\". On a day-to-day basis Mr Choe says he still draws on his experience as a young man, who - having been given a scholarship by the Shangri-La hotel group to study at Cornell University in the US - came back to Asia to learn about the hospitality industry. \\\"They put me in every department conceivable. I remember one of the toughest jobs I had was in the butchery. I had to carve an entire cow. For one month, I could not eat meat. \\\"I'm thankful for those experiences. When you step into a hotel, you immediately pick up what works and what doesn't work. \\\"When I see the check-in staff walking more than three steps, I know the counter is set up wrong. \\\"It's like a cockpit. Can you imagine if the pilot had to turn around when he flies?\\\" More The Boss features, which every week profile a different business leader from around the world: The 'diva of divorce' for the world's super rich The snacks boss with an appetite for success Taking his own path: The world's leading maze designer Mr Choe adds that loyalty is very important to him, and he remains tremendously grateful to staff who have stayed with him. \\\"I will always respect and remember those who gave up their jobs to join me,\\\" he says. This loyalty is something that Mr Choe has earned, according to Donald MacLaurin, associate professor at Singapore Institute of Technology, and specialist in the hospitality sector. Mr MacLaurin points out that Mr Choe introduced a five-day working week, in a part of the world where six days is common, thereby showing \\\"a focus on quality of life issues for employees\\\". The associate professor adds says the early success of the business was remarkable given the timing of its launch. Fast forward to today and the company is now on track to operate 30,000 serviced apartments globally by 2019. That success, say Mr Choe's admirers, should make him something of a visionary. Follow The Boss series editor Will Smale on Twitter.\"\n",
    "# ]\n",
    "\n",
    "# seq_text_summary = [\n",
    "#     # \"Former Foreign Secretary Philip Hammond has said the UK's policy in Syria has been hampered by \\\"wishful thinking\\\" - and officials underestimated the staying power of President Bashar al-Assad.\",\n",
    "#     \"\\\"When I was appointed as chief executive of my first company, I didn't think I would be able to survive,\\\" says Lee Choe.\"\n",
    "# ]\n",
    "\n",
    "# # lambda4 = 'log_exp(2,4.80448)' ??\n",
    "\n",
    "\n",
    "# seq_summary = bart_sample(\n",
    "#     bart=bart_model,\n",
    "#     batch=seq_text_input,\n",
    "#     extractive_penalty_fct='log_exp(2,4.80448)'\n",
    "# )\n",
    "\n",
    "# import pprint\n",
    "\n",
    "# pprint.pprint(f'Genarated -> {seq_summary[0]}')\n",
    "# pprint.pprint(f\"Dataset -> {seq_text_summary}\")"
   ]
  },
  {
   "cell_type": "code",
   "execution_count": null,
   "id": "ddc10922",
   "metadata": {},
   "outputs": [],
   "source": [
    "# # tested options for \n",
    "# options_tests = [\"none()\", \"linear()\", \"log_exp(2,1)\", \"log_exp(2,-1)\", \"log_exp(2.5, 1.1)\", \"log_exp2(3, 5)\"]\n",
    "# # failed options\n",
    "# [\"maxlen(2)\"]\n",
    "\n",
    "\n",
    "# for _option in options_tests:\n",
    "#     seq_summary = bart_sample(\n",
    "#         bart=bart_model,\n",
    "#         batch=seq_text_input,\n",
    "#         extractive_penalty_fct=_option\n",
    "#     )\n",
    "#     pprint.pprint(f\"{_option}, {seq_summary}\")\n",
    "\n"
   ]
  }
 ],
 "metadata": {
  "kernelspec": {
   "display_name": "p39-Dreyer-2023",
   "language": "python",
   "name": "python3"
  },
  "language_info": {
   "codemirror_mode": {
    "name": "ipython",
    "version": 3
   },
   "file_extension": ".py",
   "mimetype": "text/x-python",
   "name": "python",
   "nbconvert_exporter": "python",
   "pygments_lexer": "ipython3",
   "version": "3.9.23"
  }
 },
 "nbformat": 4,
 "nbformat_minor": 5
}
