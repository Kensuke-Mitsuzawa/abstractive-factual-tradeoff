{
 "cells": [
  {
   "cell_type": "code",
   "execution_count": 1,
   "id": "d30cd6db",
   "metadata": {},
   "outputs": [
    {
     "name": "stderr",
     "output_type": "stream",
     "text": [
      "/home/kmitsuzawa/.local/miniconda3/envs/p39-Dreyer-2023/lib/python3.9/site-packages/tqdm/auto.py:21: TqdmWarning: IProgress not found. Please update jupyter and ipywidgets. See https://ipywidgets.readthedocs.io/en/stable/user_install.html\n",
      "  from .autonotebook import tqdm as notebook_tqdm\n"
     ]
    }
   ],
   "source": [
    "from pathlib import Path\n",
    "\n",
    "from summary_abstractive.module_model_handler.ver2 import (\n",
    "    FaiseqTranslationModelHandlerVer2WordEmbeddings, \n",
    "    TranslationResultContainer,\n",
    "    EvaluationTargetTranslationPair)\n",
    "\n",
    "import json\n",
    "import numpy as np\n"
   ]
  },
  {
   "cell_type": "code",
   "execution_count": 2,
   "id": "cd2a0760",
   "metadata": {},
   "outputs": [],
   "source": [
    "PATH_MODEL_BART_CNN = Path(\"/workdir/kmitsuzawa/Project/neurips-2025/ConstraintsFact-Dreyer-2023/abstractive-factual-tradeoff/tests/testresources/models/bart.large.cnn\")\n",
    "assert PATH_MODEL_BART_CNN.exists()"
   ]
  },
  {
   "cell_type": "code",
   "execution_count": 3,
   "id": "5f788de3",
   "metadata": {},
   "outputs": [],
   "source": [
    "PATH_DATASET_CNN = Path(\"/workdir/kmitsuzawa/Project/neurips-2025/ConstraintsFact-Dreyer-2023/abstractive-factual-tradeoff/tests/testresources/datasets/constraints_fact_v1.0/cnn_dailymail/collect.json\")\n",
    "assert PATH_DATASET_CNN.exists()"
   ]
  },
  {
   "cell_type": "code",
   "execution_count": 4,
   "id": "314bc411",
   "metadata": {},
   "outputs": [],
   "source": [
    "PATH_CACHE_DIR_BASE = Path(\"/workdir/kmitsuzawa/DATA/mitsuzaw/project_UCA/MT_MMD/flagging_dreyer_2023/summary_cache\")\n",
    "assert PATH_CACHE_DIR_BASE.exists()"
   ]
  },
  {
   "cell_type": "code",
   "execution_count": null,
   "id": "0834cc50",
   "metadata": {},
   "outputs": [],
   "source": [
    "summary_model_handler = FaiseqTranslationModelHandlerVer2WordEmbeddings(\n",
    "    path_cache_dir=PATH_CACHE_DIR_BASE,\n",
    "    path_dir_fairseq_model=PATH_MODEL_BART_CNN\n",
    ")"
   ]
  },
  {
   "cell_type": "code",
   "execution_count": 7,
   "id": "1fd00e54",
   "metadata": {},
   "outputs": [],
   "source": [
    "with PATH_DATASET_CNN.open('r') as f:\n",
    "    seq_dataset_obj = [json.loads(_line) for _line in f.readlines()]\n",
    "# end with"
   ]
  },
  {
   "cell_type": "code",
   "execution_count": 8,
   "id": "5b88ce81",
   "metadata": {},
   "outputs": [],
   "source": [
    "import logging\n",
    "\n",
    "from summary_abstractive import logger_module\n",
    "from datetime import datetime\n",
    "\n",
    "path_log_dir = Path(\"/workdir/kmitsuzawa/DATA/mitsuzaw/project_UCA/MT_MMD/flagging_dreyer_2023/Dreyer_2023-constraints_fact_CNN-2025-07-10/generations\") / f'{datetime.now().isoformat()}.log'\n",
    "\n",
    "logger = logging.getLogger('main')\n",
    "logger.setLevel(logging.DEBUG)\n",
    "file_handler = logging.FileHandler(path_log_dir)\n",
    "file_handler.setLevel(logging.DEBUG)\n",
    "file_handler.setFormatter(logger_module.formatter)\n",
    "\n",
    "std_handler = logging.StreamHandler()\n",
    "std_handler.setLevel(logging.DEBUG)\n",
    "std_handler.setFormatter(logger_module.formatter)\n",
    "\n",
    "logger.addHandler(file_handler)\n",
    "logger.addHandler(std_handler)\n",
    "\n",
    "# re-setting the log level.\n",
    "logging.getLogger('fairseq').setLevel(logging.WARNING)"
   ]
  },
  {
   "cell_type": "code",
   "execution_count": 10,
   "id": "0d36727b",
   "metadata": {},
   "outputs": [
    {
     "name": "stderr",
     "output_type": "stream",
     "text": [
      "2025-07-10 19:20:04,351 - main - /tmp/ipykernel_361810/3888030051.py - INFO - Current Git Commit: a352a44b446aa232472af5e3e6d87f6991dee469\n"
     ]
    }
   ],
   "source": [
    "# -------------------------------------------\n",
    "# getting git commit id\n",
    "import git\n",
    "repo = git.Repo(search_parent_directories=True)\n",
    "sha = repo.head.object.hexsha\n",
    "logger.info(f'Current Git Commit: {sha}')"
   ]
  },
  {
   "cell_type": "code",
   "execution_count": 17,
   "id": "582fde13",
   "metadata": {},
   "outputs": [],
   "source": [
    "n_sampling = 25\n",
    "tau_parameters = [float(f'{_tau:.1f}') for _tau in np.arange(0.1, 1.0, 0.1)]"
   ]
  },
  {
   "cell_type": "code",
   "execution_count": null,
   "id": "536e7c7b",
   "metadata": {},
   "outputs": [
    {
     "name": "stderr",
     "output_type": "stream",
     "text": [
      "2025-07-10 19:25:23,500 - main - /tmp/ipykernel_361810/469521946.py - INFO - ==============================\n",
      "INFO:main:==============================\n",
      "2025-07-10 19:25:23,504 - main - /tmp/ipykernel_361810/469521946.py - INFO - document-id = 0\n",
      "INFO:main:document-id = 0\n",
      "2025-07-10 19:25:53,496 - main - /tmp/ipykernel_361810/469521946.py - INFO - done tau=0.1\n",
      "INFO:main:done tau=0.1\n",
      "2025-07-10 19:26:24,005 - main - /tmp/ipykernel_361810/469521946.py - INFO - done tau=0.2\n",
      "INFO:main:done tau=0.2\n",
      "2025-07-10 19:26:54,740 - main - /tmp/ipykernel_361810/469521946.py - INFO - done tau=0.3\n",
      "INFO:main:done tau=0.3\n",
      "2025-07-10 19:27:24,834 - main - /tmp/ipykernel_361810/469521946.py - INFO - done tau=0.4\n",
      "INFO:main:done tau=0.4\n"
     ]
    }
   ],
   "source": [
    "for _obj in seq_dataset_obj:\n",
    "    _document_id: str = str(_obj['document_id'])\n",
    "\n",
    "    _document_full: str = _obj['document_full']\n",
    "    _document_original: str = _obj['document_original']\n",
    "    \n",
    "    _penalty_command: str = _obj['abstractiveness_constraint']\n",
    "    \n",
    "    assert _document_full == _document_original\n",
    "\n",
    "    _input_record = EvaluationTargetTranslationPair(sentence_id=_document_id, source=_document_full, target=\"\")\n",
    "\n",
    "    logger.info('=' * 30)\n",
    "    logger.info(f\"document-id = {_document_id}\")\n",
    "    for _tau in tau_parameters:\n",
    "        summary_model_handler.translate_sample_multiple_times(\n",
    "            input_text=_input_record,\n",
    "            n_sampling=n_sampling,\n",
    "            temperature=_tau,\n",
    "            penalty_command=_penalty_command\n",
    "        )\n",
    "        logger.info(f\"done tau={_tau}\")"
   ]
  }
 ],
 "metadata": {
  "kernelspec": {
   "display_name": "p39-Dreyer-2023",
   "language": "python",
   "name": "python3"
  },
  "language_info": {
   "codemirror_mode": {
    "name": "ipython",
    "version": 3
   },
   "file_extension": ".py",
   "mimetype": "text/x-python",
   "name": "python",
   "nbconvert_exporter": "python",
   "pygments_lexer": "ipython3",
   "version": "3.9.23"
  }
 },
 "nbformat": 4,
 "nbformat_minor": 5
}
