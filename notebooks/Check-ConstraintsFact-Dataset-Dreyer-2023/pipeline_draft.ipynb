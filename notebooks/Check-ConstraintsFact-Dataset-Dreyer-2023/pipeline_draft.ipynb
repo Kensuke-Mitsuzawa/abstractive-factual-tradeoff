{
 "cells": [
  {
   "cell_type": "code",
   "execution_count": 3,
   "id": "d30cd6db",
   "metadata": {},
   "outputs": [
    {
     "ename": "ModuleNotFoundError",
     "evalue": "No module named 'summary_abstractive'",
     "output_type": "error",
     "traceback": [
      "\u001b[0;31m---------------------------------------------------------------------------\u001b[0m",
      "\u001b[0;31mModuleNotFoundError\u001b[0m                       Traceback (most recent call last)",
      "Cell \u001b[0;32mIn[3], line 3\u001b[0m\n\u001b[1;32m      1\u001b[0m \u001b[38;5;28;01mfrom\u001b[39;00m\u001b[38;5;250m \u001b[39m\u001b[38;5;21;01mpathlib\u001b[39;00m\u001b[38;5;250m \u001b[39m\u001b[38;5;28;01mimport\u001b[39;00m Path\n\u001b[0;32m----> 3\u001b[0m \u001b[38;5;28;01mfrom\u001b[39;00m\u001b[38;5;250m \u001b[39m\u001b[38;5;21;01msummary_abstractive\u001b[39;00m\u001b[38;5;21;01m.\u001b[39;00m\u001b[38;5;21;01mmodule_model_handler\u001b[39;00m\u001b[38;5;21;01m.\u001b[39;00m\u001b[38;5;21;01mver2\u001b[39;00m\u001b[38;5;250m \u001b[39m\u001b[38;5;28;01mimport\u001b[39;00m (\n\u001b[1;32m      4\u001b[0m     FaiseqTranslationModelHandlerVer2WordEmbeddings, \n\u001b[1;32m      5\u001b[0m     TranslationResultContainer,\n\u001b[1;32m      6\u001b[0m     EvaluationTargetTranslationPair)\n",
      "\u001b[0;31mModuleNotFoundError\u001b[0m: No module named 'summary_abstractive'"
     ]
    }
   ],
   "source": [
    "from pathlib import Path\n",
    "\n",
    "from summary_abstractive.module_model_handler.ver2 import (\n",
    "    FaiseqTranslationModelHandlerVer2WordEmbeddings, \n",
    "    TranslationResultContainer,\n",
    "    EvaluationTargetTranslationPair)"
   ]
  }
 ],
 "metadata": {
  "kernelspec": {
   "display_name": "p39-Dreyer-2023",
   "language": "python",
   "name": "python3"
  },
  "language_info": {
   "codemirror_mode": {
    "name": "ipython",
    "version": 3
   },
   "file_extension": ".py",
   "mimetype": "text/x-python",
   "name": "python",
   "nbconvert_exporter": "python",
   "pygments_lexer": "ipython3",
   "version": "3.9.23"
  }
 },
 "nbformat": 4,
 "nbformat_minor": 5
}
